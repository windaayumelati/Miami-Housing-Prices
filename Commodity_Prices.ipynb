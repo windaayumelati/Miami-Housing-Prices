{
  "nbformat": 4,
  "nbformat_minor": 0,
  "metadata": {
    "colab": {
      "provenance": []
    },
    "kernelspec": {
      "name": "python3",
      "display_name": "Python 3"
    },
    "language_info": {
      "name": "python"
    }
  },
  "cells": [
    {
      "cell_type": "code",
      "execution_count": 1,
      "metadata": {
        "colab": {
          "base_uri": "https://localhost:8080/",
          "height": 92
        },
        "id": "rctKwWV_0JB4",
        "outputId": "a42bc698-c2c1-4deb-9200-bd1da76c3da8"
      },
      "outputs": [
        {
          "output_type": "display_data",
          "data": {
            "text/plain": [
              "<IPython.core.display.HTML object>"
            ],
            "text/html": [
              "\n",
              "     <input type=\"file\" id=\"files-5cccb970-a4de-4a05-89de-92d70ca05b53\" name=\"files[]\" multiple disabled\n",
              "        style=\"border:none\" />\n",
              "     <output id=\"result-5cccb970-a4de-4a05-89de-92d70ca05b53\">\n",
              "      Upload widget is only available when the cell has been executed in the\n",
              "      current browser session. Please rerun this cell to enable.\n",
              "      </output>\n",
              "      <script>// Copyright 2017 Google LLC\n",
              "//\n",
              "// Licensed under the Apache License, Version 2.0 (the \"License\");\n",
              "// you may not use this file except in compliance with the License.\n",
              "// You may obtain a copy of the License at\n",
              "//\n",
              "//      http://www.apache.org/licenses/LICENSE-2.0\n",
              "//\n",
              "// Unless required by applicable law or agreed to in writing, software\n",
              "// distributed under the License is distributed on an \"AS IS\" BASIS,\n",
              "// WITHOUT WARRANTIES OR CONDITIONS OF ANY KIND, either express or implied.\n",
              "// See the License for the specific language governing permissions and\n",
              "// limitations under the License.\n",
              "\n",
              "/**\n",
              " * @fileoverview Helpers for google.colab Python module.\n",
              " */\n",
              "(function(scope) {\n",
              "function span(text, styleAttributes = {}) {\n",
              "  const element = document.createElement('span');\n",
              "  element.textContent = text;\n",
              "  for (const key of Object.keys(styleAttributes)) {\n",
              "    element.style[key] = styleAttributes[key];\n",
              "  }\n",
              "  return element;\n",
              "}\n",
              "\n",
              "// Max number of bytes which will be uploaded at a time.\n",
              "const MAX_PAYLOAD_SIZE = 100 * 1024;\n",
              "\n",
              "function _uploadFiles(inputId, outputId) {\n",
              "  const steps = uploadFilesStep(inputId, outputId);\n",
              "  const outputElement = document.getElementById(outputId);\n",
              "  // Cache steps on the outputElement to make it available for the next call\n",
              "  // to uploadFilesContinue from Python.\n",
              "  outputElement.steps = steps;\n",
              "\n",
              "  return _uploadFilesContinue(outputId);\n",
              "}\n",
              "\n",
              "// This is roughly an async generator (not supported in the browser yet),\n",
              "// where there are multiple asynchronous steps and the Python side is going\n",
              "// to poll for completion of each step.\n",
              "// This uses a Promise to block the python side on completion of each step,\n",
              "// then passes the result of the previous step as the input to the next step.\n",
              "function _uploadFilesContinue(outputId) {\n",
              "  const outputElement = document.getElementById(outputId);\n",
              "  const steps = outputElement.steps;\n",
              "\n",
              "  const next = steps.next(outputElement.lastPromiseValue);\n",
              "  return Promise.resolve(next.value.promise).then((value) => {\n",
              "    // Cache the last promise value to make it available to the next\n",
              "    // step of the generator.\n",
              "    outputElement.lastPromiseValue = value;\n",
              "    return next.value.response;\n",
              "  });\n",
              "}\n",
              "\n",
              "/**\n",
              " * Generator function which is called between each async step of the upload\n",
              " * process.\n",
              " * @param {string} inputId Element ID of the input file picker element.\n",
              " * @param {string} outputId Element ID of the output display.\n",
              " * @return {!Iterable<!Object>} Iterable of next steps.\n",
              " */\n",
              "function* uploadFilesStep(inputId, outputId) {\n",
              "  const inputElement = document.getElementById(inputId);\n",
              "  inputElement.disabled = false;\n",
              "\n",
              "  const outputElement = document.getElementById(outputId);\n",
              "  outputElement.innerHTML = '';\n",
              "\n",
              "  const pickedPromise = new Promise((resolve) => {\n",
              "    inputElement.addEventListener('change', (e) => {\n",
              "      resolve(e.target.files);\n",
              "    });\n",
              "  });\n",
              "\n",
              "  const cancel = document.createElement('button');\n",
              "  inputElement.parentElement.appendChild(cancel);\n",
              "  cancel.textContent = 'Cancel upload';\n",
              "  const cancelPromise = new Promise((resolve) => {\n",
              "    cancel.onclick = () => {\n",
              "      resolve(null);\n",
              "    };\n",
              "  });\n",
              "\n",
              "  // Wait for the user to pick the files.\n",
              "  const files = yield {\n",
              "    promise: Promise.race([pickedPromise, cancelPromise]),\n",
              "    response: {\n",
              "      action: 'starting',\n",
              "    }\n",
              "  };\n",
              "\n",
              "  cancel.remove();\n",
              "\n",
              "  // Disable the input element since further picks are not allowed.\n",
              "  inputElement.disabled = true;\n",
              "\n",
              "  if (!files) {\n",
              "    return {\n",
              "      response: {\n",
              "        action: 'complete',\n",
              "      }\n",
              "    };\n",
              "  }\n",
              "\n",
              "  for (const file of files) {\n",
              "    const li = document.createElement('li');\n",
              "    li.append(span(file.name, {fontWeight: 'bold'}));\n",
              "    li.append(span(\n",
              "        `(${file.type || 'n/a'}) - ${file.size} bytes, ` +\n",
              "        `last modified: ${\n",
              "            file.lastModifiedDate ? file.lastModifiedDate.toLocaleDateString() :\n",
              "                                    'n/a'} - `));\n",
              "    const percent = span('0% done');\n",
              "    li.appendChild(percent);\n",
              "\n",
              "    outputElement.appendChild(li);\n",
              "\n",
              "    const fileDataPromise = new Promise((resolve) => {\n",
              "      const reader = new FileReader();\n",
              "      reader.onload = (e) => {\n",
              "        resolve(e.target.result);\n",
              "      };\n",
              "      reader.readAsArrayBuffer(file);\n",
              "    });\n",
              "    // Wait for the data to be ready.\n",
              "    let fileData = yield {\n",
              "      promise: fileDataPromise,\n",
              "      response: {\n",
              "        action: 'continue',\n",
              "      }\n",
              "    };\n",
              "\n",
              "    // Use a chunked sending to avoid message size limits. See b/62115660.\n",
              "    let position = 0;\n",
              "    do {\n",
              "      const length = Math.min(fileData.byteLength - position, MAX_PAYLOAD_SIZE);\n",
              "      const chunk = new Uint8Array(fileData, position, length);\n",
              "      position += length;\n",
              "\n",
              "      const base64 = btoa(String.fromCharCode.apply(null, chunk));\n",
              "      yield {\n",
              "        response: {\n",
              "          action: 'append',\n",
              "          file: file.name,\n",
              "          data: base64,\n",
              "        },\n",
              "      };\n",
              "\n",
              "      let percentDone = fileData.byteLength === 0 ?\n",
              "          100 :\n",
              "          Math.round((position / fileData.byteLength) * 100);\n",
              "      percent.textContent = `${percentDone}% done`;\n",
              "\n",
              "    } while (position < fileData.byteLength);\n",
              "  }\n",
              "\n",
              "  // All done.\n",
              "  yield {\n",
              "    response: {\n",
              "      action: 'complete',\n",
              "    }\n",
              "  };\n",
              "}\n",
              "\n",
              "scope.google = scope.google || {};\n",
              "scope.google.colab = scope.google.colab || {};\n",
              "scope.google.colab._files = {\n",
              "  _uploadFiles,\n",
              "  _uploadFilesContinue,\n",
              "};\n",
              "})(self);\n",
              "</script> "
            ]
          },
          "metadata": {}
        },
        {
          "output_type": "stream",
          "name": "stdout",
          "text": [
            "Saving kaggle.json to kaggle.json\n"
          ]
        },
        {
          "output_type": "execute_result",
          "data": {
            "text/plain": [
              "{'kaggle.json': b'{\"username\":\"windaayumelati\",\"key\":\"03748c9e298dbec2b99f164a2b651ba9\"}'}"
            ]
          },
          "metadata": {},
          "execution_count": 1
        }
      ],
      "source": [
        "from google.colab import files\n",
        "files.upload()"
      ]
    },
    {
      "cell_type": "markdown",
      "source": [
        "**Make directory and change permission**\n"
      ],
      "metadata": {
        "id": "GJbcUrup0zKZ"
      }
    },
    {
      "cell_type": "code",
      "source": [
        "!mkdir -p ~/.kaggle\n",
        "!cp kaggle.json ~/.kaggle/\n",
        "!chmod 600 ~/.kaggle/kaggle.json\n",
        "!ls ~/.kaggle"
      ],
      "metadata": {
        "colab": {
          "base_uri": "https://localhost:8080/"
        },
        "id": "bB0MSSOH0yIY",
        "outputId": "368aae84-005c-41a7-8c6f-1178e7fc1697"
      },
      "execution_count": 2,
      "outputs": [
        {
          "output_type": "stream",
          "name": "stdout",
          "text": [
            "kaggle.json\n"
          ]
        }
      ]
    },
    {
      "cell_type": "code",
      "source": [
        "!kaggle datasets download -d elmoallistair/commodity-prices-19602021"
      ],
      "metadata": {
        "colab": {
          "base_uri": "https://localhost:8080/"
        },
        "id": "Oy3ROrPk6aaw",
        "outputId": "a4b32067-5fd9-48d5-90c1-11bc50700719"
      },
      "execution_count": 3,
      "outputs": [
        {
          "output_type": "stream",
          "name": "stdout",
          "text": [
            "Downloading commodity-prices-19602021.zip to /content\n",
            "\r  0% 0.00/5.25k [00:00<?, ?B/s]\n",
            "\r100% 5.25k/5.25k [00:00<00:00, 5.97MB/s]\n"
          ]
        }
      ]
    },
    {
      "cell_type": "code",
      "source": [
        "!mkdir commodity-prices-19602021\n",
        "!unzip commodity-prices-19602021\n",
        "!ls commodity-prices-19602021"
      ],
      "metadata": {
        "colab": {
          "base_uri": "https://localhost:8080/"
        },
        "id": "8PpC9e_T6yEd",
        "outputId": "040d72c8-2e96-4f44-cb3a-c50a352fdd4e"
      },
      "execution_count": 4,
      "outputs": [
        {
          "output_type": "stream",
          "name": "stdout",
          "text": [
            "Archive:  commodity-prices-19602021.zip\n",
            "  inflating: commodity_prices.csv    \n"
          ]
        }
      ]
    },
    {
      "cell_type": "markdown",
      "source": [
        "**Deskripsi Library yang digunakan**"
      ],
      "metadata": {
        "id": "wbFbEReX6iK3"
      }
    },
    {
      "cell_type": "code",
      "source": [
        "import pandas as pd\n",
        "import numpy as np\n",
        "import matplotlib.pyplot as plt\n",
        "import seaborn as sns\n",
        "from sklearn.model_selection import train_test_split\n",
        "from sklearn.linear_model import LinearRegression"
      ],
      "metadata": {
        "id": "DbPY7hH36fmj"
      },
      "execution_count": 5,
      "outputs": []
    },
    {
      "cell_type": "markdown",
      "source": [
        "**Memanggil Dataset**"
      ],
      "metadata": {
        "id": "icPhKK736meq"
      }
    },
    {
      "cell_type": "code",
      "source": [
        "df = pd.read_csv('commodity_prices.csv')"
      ],
      "metadata": {
        "id": "ucFHHDob6oMZ"
      },
      "execution_count": 6,
      "outputs": []
    },
    {
      "cell_type": "markdown",
      "source": [
        "**Deskripsi Dataset**\n",
        "\n",
        "\n",
        "\n",
        "\n",
        "\n",
        "\n"
      ],
      "metadata": {
        "id": "E0R5Z9Vf69Mh"
      }
    },
    {
      "cell_type": "code",
      "source": [
        "df.head()"
      ],
      "metadata": {
        "colab": {
          "base_uri": "https://localhost:8080/",
          "height": 236
        },
        "id": "O4xF9Gjo6-7W",
        "outputId": "46328ec9-0937-43a3-da33-3487dca1e1c0"
      },
      "execution_count": 7,
      "outputs": [
        {
          "output_type": "execute_result",
          "data": {
            "text/plain": [
              "   Year  Cocoa  Coffee   Tea  Crude Oil  Coal  Natural Gas  Banana  Sugar  \\\n",
              "0  1960   0.59    0.92  1.03       1.63   NaN         0.14    0.14   0.07   \n",
              "1  1961   0.48    0.90  0.95       1.57   NaN         0.15    0.13   0.06   \n",
              "2  1962   0.46    0.83  0.97       1.52   NaN         0.16    0.13   0.06   \n",
              "3  1963   0.55    0.81  0.95       1.50   NaN         0.16    0.14   0.18   \n",
              "4  1964   0.51    1.01  0.93       1.45   NaN         0.15    0.17   0.13   \n",
              "\n",
              "   Orange  ...  Silver  Cotton  Rubber  Tobacco  Coconut Oil  Groundnut Oil  \\\n",
              "0    0.13  ...    0.91    0.65    0.78  1736.87       312.33         327.00   \n",
              "1    0.13  ...    0.92    0.67    0.60  1563.19       253.42         330.25   \n",
              "2    0.11  ...    1.08    0.65    0.56  1404.90       251.22         274.34   \n",
              "3    0.09  ...    1.28    0.65    0.52  1343.61       286.33         268.50   \n",
              "4    0.08  ...    1.29    0.65    0.49  1488.30       296.48         315.38   \n",
              "\n",
              "   Palm Oil  Soybean   Logs  Sawnwood  \n",
              "0    224.42   223.92  31.94    149.17  \n",
              "1    228.42   287.33  33.06    151.98  \n",
              "2    216.24   227.00  36.39    160.06  \n",
              "3    222.39   223.58  35.49    157.85  \n",
              "4    239.45   233.00  30.26    144.83  \n",
              "\n",
              "[5 rows x 31 columns]"
            ],
            "text/html": [
              "\n",
              "  <div id=\"df-c143034d-99c6-43b9-a8ee-b0f03498064d\" class=\"colab-df-container\">\n",
              "    <div>\n",
              "<style scoped>\n",
              "    .dataframe tbody tr th:only-of-type {\n",
              "        vertical-align: middle;\n",
              "    }\n",
              "\n",
              "    .dataframe tbody tr th {\n",
              "        vertical-align: top;\n",
              "    }\n",
              "\n",
              "    .dataframe thead th {\n",
              "        text-align: right;\n",
              "    }\n",
              "</style>\n",
              "<table border=\"1\" class=\"dataframe\">\n",
              "  <thead>\n",
              "    <tr style=\"text-align: right;\">\n",
              "      <th></th>\n",
              "      <th>Year</th>\n",
              "      <th>Cocoa</th>\n",
              "      <th>Coffee</th>\n",
              "      <th>Tea</th>\n",
              "      <th>Crude Oil</th>\n",
              "      <th>Coal</th>\n",
              "      <th>Natural Gas</th>\n",
              "      <th>Banana</th>\n",
              "      <th>Sugar</th>\n",
              "      <th>Orange</th>\n",
              "      <th>...</th>\n",
              "      <th>Silver</th>\n",
              "      <th>Cotton</th>\n",
              "      <th>Rubber</th>\n",
              "      <th>Tobacco</th>\n",
              "      <th>Coconut Oil</th>\n",
              "      <th>Groundnut Oil</th>\n",
              "      <th>Palm Oil</th>\n",
              "      <th>Soybean</th>\n",
              "      <th>Logs</th>\n",
              "      <th>Sawnwood</th>\n",
              "    </tr>\n",
              "  </thead>\n",
              "  <tbody>\n",
              "    <tr>\n",
              "      <th>0</th>\n",
              "      <td>1960</td>\n",
              "      <td>0.59</td>\n",
              "      <td>0.92</td>\n",
              "      <td>1.03</td>\n",
              "      <td>1.63</td>\n",
              "      <td>NaN</td>\n",
              "      <td>0.14</td>\n",
              "      <td>0.14</td>\n",
              "      <td>0.07</td>\n",
              "      <td>0.13</td>\n",
              "      <td>...</td>\n",
              "      <td>0.91</td>\n",
              "      <td>0.65</td>\n",
              "      <td>0.78</td>\n",
              "      <td>1736.87</td>\n",
              "      <td>312.33</td>\n",
              "      <td>327.00</td>\n",
              "      <td>224.42</td>\n",
              "      <td>223.92</td>\n",
              "      <td>31.94</td>\n",
              "      <td>149.17</td>\n",
              "    </tr>\n",
              "    <tr>\n",
              "      <th>1</th>\n",
              "      <td>1961</td>\n",
              "      <td>0.48</td>\n",
              "      <td>0.90</td>\n",
              "      <td>0.95</td>\n",
              "      <td>1.57</td>\n",
              "      <td>NaN</td>\n",
              "      <td>0.15</td>\n",
              "      <td>0.13</td>\n",
              "      <td>0.06</td>\n",
              "      <td>0.13</td>\n",
              "      <td>...</td>\n",
              "      <td>0.92</td>\n",
              "      <td>0.67</td>\n",
              "      <td>0.60</td>\n",
              "      <td>1563.19</td>\n",
              "      <td>253.42</td>\n",
              "      <td>330.25</td>\n",
              "      <td>228.42</td>\n",
              "      <td>287.33</td>\n",
              "      <td>33.06</td>\n",
              "      <td>151.98</td>\n",
              "    </tr>\n",
              "    <tr>\n",
              "      <th>2</th>\n",
              "      <td>1962</td>\n",
              "      <td>0.46</td>\n",
              "      <td>0.83</td>\n",
              "      <td>0.97</td>\n",
              "      <td>1.52</td>\n",
              "      <td>NaN</td>\n",
              "      <td>0.16</td>\n",
              "      <td>0.13</td>\n",
              "      <td>0.06</td>\n",
              "      <td>0.11</td>\n",
              "      <td>...</td>\n",
              "      <td>1.08</td>\n",
              "      <td>0.65</td>\n",
              "      <td>0.56</td>\n",
              "      <td>1404.90</td>\n",
              "      <td>251.22</td>\n",
              "      <td>274.34</td>\n",
              "      <td>216.24</td>\n",
              "      <td>227.00</td>\n",
              "      <td>36.39</td>\n",
              "      <td>160.06</td>\n",
              "    </tr>\n",
              "    <tr>\n",
              "      <th>3</th>\n",
              "      <td>1963</td>\n",
              "      <td>0.55</td>\n",
              "      <td>0.81</td>\n",
              "      <td>0.95</td>\n",
              "      <td>1.50</td>\n",
              "      <td>NaN</td>\n",
              "      <td>0.16</td>\n",
              "      <td>0.14</td>\n",
              "      <td>0.18</td>\n",
              "      <td>0.09</td>\n",
              "      <td>...</td>\n",
              "      <td>1.28</td>\n",
              "      <td>0.65</td>\n",
              "      <td>0.52</td>\n",
              "      <td>1343.61</td>\n",
              "      <td>286.33</td>\n",
              "      <td>268.50</td>\n",
              "      <td>222.39</td>\n",
              "      <td>223.58</td>\n",
              "      <td>35.49</td>\n",
              "      <td>157.85</td>\n",
              "    </tr>\n",
              "    <tr>\n",
              "      <th>4</th>\n",
              "      <td>1964</td>\n",
              "      <td>0.51</td>\n",
              "      <td>1.01</td>\n",
              "      <td>0.93</td>\n",
              "      <td>1.45</td>\n",
              "      <td>NaN</td>\n",
              "      <td>0.15</td>\n",
              "      <td>0.17</td>\n",
              "      <td>0.13</td>\n",
              "      <td>0.08</td>\n",
              "      <td>...</td>\n",
              "      <td>1.29</td>\n",
              "      <td>0.65</td>\n",
              "      <td>0.49</td>\n",
              "      <td>1488.30</td>\n",
              "      <td>296.48</td>\n",
              "      <td>315.38</td>\n",
              "      <td>239.45</td>\n",
              "      <td>233.00</td>\n",
              "      <td>30.26</td>\n",
              "      <td>144.83</td>\n",
              "    </tr>\n",
              "  </tbody>\n",
              "</table>\n",
              "<p>5 rows × 31 columns</p>\n",
              "</div>\n",
              "    <div class=\"colab-df-buttons\">\n",
              "\n",
              "  <div class=\"colab-df-container\">\n",
              "    <button class=\"colab-df-convert\" onclick=\"convertToInteractive('df-c143034d-99c6-43b9-a8ee-b0f03498064d')\"\n",
              "            title=\"Convert this dataframe to an interactive table.\"\n",
              "            style=\"display:none;\">\n",
              "\n",
              "  <svg xmlns=\"http://www.w3.org/2000/svg\" height=\"24px\" viewBox=\"0 -960 960 960\">\n",
              "    <path d=\"M120-120v-720h720v720H120Zm60-500h600v-160H180v160Zm220 220h160v-160H400v160Zm0 220h160v-160H400v160ZM180-400h160v-160H180v160Zm440 0h160v-160H620v160ZM180-180h160v-160H180v160Zm440 0h160v-160H620v160Z\"/>\n",
              "  </svg>\n",
              "    </button>\n",
              "\n",
              "  <style>\n",
              "    .colab-df-container {\n",
              "      display:flex;\n",
              "      gap: 12px;\n",
              "    }\n",
              "\n",
              "    .colab-df-convert {\n",
              "      background-color: #E8F0FE;\n",
              "      border: none;\n",
              "      border-radius: 50%;\n",
              "      cursor: pointer;\n",
              "      display: none;\n",
              "      fill: #1967D2;\n",
              "      height: 32px;\n",
              "      padding: 0 0 0 0;\n",
              "      width: 32px;\n",
              "    }\n",
              "\n",
              "    .colab-df-convert:hover {\n",
              "      background-color: #E2EBFA;\n",
              "      box-shadow: 0px 1px 2px rgba(60, 64, 67, 0.3), 0px 1px 3px 1px rgba(60, 64, 67, 0.15);\n",
              "      fill: #174EA6;\n",
              "    }\n",
              "\n",
              "    .colab-df-buttons div {\n",
              "      margin-bottom: 4px;\n",
              "    }\n",
              "\n",
              "    [theme=dark] .colab-df-convert {\n",
              "      background-color: #3B4455;\n",
              "      fill: #D2E3FC;\n",
              "    }\n",
              "\n",
              "    [theme=dark] .colab-df-convert:hover {\n",
              "      background-color: #434B5C;\n",
              "      box-shadow: 0px 1px 3px 1px rgba(0, 0, 0, 0.15);\n",
              "      filter: drop-shadow(0px 1px 2px rgba(0, 0, 0, 0.3));\n",
              "      fill: #FFFFFF;\n",
              "    }\n",
              "  </style>\n",
              "\n",
              "    <script>\n",
              "      const buttonEl =\n",
              "        document.querySelector('#df-c143034d-99c6-43b9-a8ee-b0f03498064d button.colab-df-convert');\n",
              "      buttonEl.style.display =\n",
              "        google.colab.kernel.accessAllowed ? 'block' : 'none';\n",
              "\n",
              "      async function convertToInteractive(key) {\n",
              "        const element = document.querySelector('#df-c143034d-99c6-43b9-a8ee-b0f03498064d');\n",
              "        const dataTable =\n",
              "          await google.colab.kernel.invokeFunction('convertToInteractive',\n",
              "                                                    [key], {});\n",
              "        if (!dataTable) return;\n",
              "\n",
              "        const docLinkHtml = 'Like what you see? Visit the ' +\n",
              "          '<a target=\"_blank\" href=https://colab.research.google.com/notebooks/data_table.ipynb>data table notebook</a>'\n",
              "          + ' to learn more about interactive tables.';\n",
              "        element.innerHTML = '';\n",
              "        dataTable['output_type'] = 'display_data';\n",
              "        await google.colab.output.renderOutput(dataTable, element);\n",
              "        const docLink = document.createElement('div');\n",
              "        docLink.innerHTML = docLinkHtml;\n",
              "        element.appendChild(docLink);\n",
              "      }\n",
              "    </script>\n",
              "  </div>\n",
              "\n",
              "\n",
              "<div id=\"df-4cfbc1ba-3246-49e1-89f3-10e8797a9605\">\n",
              "  <button class=\"colab-df-quickchart\" onclick=\"quickchart('df-4cfbc1ba-3246-49e1-89f3-10e8797a9605')\"\n",
              "            title=\"Suggest charts.\"\n",
              "            style=\"display:none;\">\n",
              "\n",
              "<svg xmlns=\"http://www.w3.org/2000/svg\" height=\"24px\"viewBox=\"0 0 24 24\"\n",
              "     width=\"24px\">\n",
              "    <g>\n",
              "        <path d=\"M19 3H5c-1.1 0-2 .9-2 2v14c0 1.1.9 2 2 2h14c1.1 0 2-.9 2-2V5c0-1.1-.9-2-2-2zM9 17H7v-7h2v7zm4 0h-2V7h2v10zm4 0h-2v-4h2v4z\"/>\n",
              "    </g>\n",
              "</svg>\n",
              "  </button>\n",
              "\n",
              "<style>\n",
              "  .colab-df-quickchart {\n",
              "      --bg-color: #E8F0FE;\n",
              "      --fill-color: #1967D2;\n",
              "      --hover-bg-color: #E2EBFA;\n",
              "      --hover-fill-color: #174EA6;\n",
              "      --disabled-fill-color: #AAA;\n",
              "      --disabled-bg-color: #DDD;\n",
              "  }\n",
              "\n",
              "  [theme=dark] .colab-df-quickchart {\n",
              "      --bg-color: #3B4455;\n",
              "      --fill-color: #D2E3FC;\n",
              "      --hover-bg-color: #434B5C;\n",
              "      --hover-fill-color: #FFFFFF;\n",
              "      --disabled-bg-color: #3B4455;\n",
              "      --disabled-fill-color: #666;\n",
              "  }\n",
              "\n",
              "  .colab-df-quickchart {\n",
              "    background-color: var(--bg-color);\n",
              "    border: none;\n",
              "    border-radius: 50%;\n",
              "    cursor: pointer;\n",
              "    display: none;\n",
              "    fill: var(--fill-color);\n",
              "    height: 32px;\n",
              "    padding: 0;\n",
              "    width: 32px;\n",
              "  }\n",
              "\n",
              "  .colab-df-quickchart:hover {\n",
              "    background-color: var(--hover-bg-color);\n",
              "    box-shadow: 0 1px 2px rgba(60, 64, 67, 0.3), 0 1px 3px 1px rgba(60, 64, 67, 0.15);\n",
              "    fill: var(--button-hover-fill-color);\n",
              "  }\n",
              "\n",
              "  .colab-df-quickchart-complete:disabled,\n",
              "  .colab-df-quickchart-complete:disabled:hover {\n",
              "    background-color: var(--disabled-bg-color);\n",
              "    fill: var(--disabled-fill-color);\n",
              "    box-shadow: none;\n",
              "  }\n",
              "\n",
              "  .colab-df-spinner {\n",
              "    border: 2px solid var(--fill-color);\n",
              "    border-color: transparent;\n",
              "    border-bottom-color: var(--fill-color);\n",
              "    animation:\n",
              "      spin 1s steps(1) infinite;\n",
              "  }\n",
              "\n",
              "  @keyframes spin {\n",
              "    0% {\n",
              "      border-color: transparent;\n",
              "      border-bottom-color: var(--fill-color);\n",
              "      border-left-color: var(--fill-color);\n",
              "    }\n",
              "    20% {\n",
              "      border-color: transparent;\n",
              "      border-left-color: var(--fill-color);\n",
              "      border-top-color: var(--fill-color);\n",
              "    }\n",
              "    30% {\n",
              "      border-color: transparent;\n",
              "      border-left-color: var(--fill-color);\n",
              "      border-top-color: var(--fill-color);\n",
              "      border-right-color: var(--fill-color);\n",
              "    }\n",
              "    40% {\n",
              "      border-color: transparent;\n",
              "      border-right-color: var(--fill-color);\n",
              "      border-top-color: var(--fill-color);\n",
              "    }\n",
              "    60% {\n",
              "      border-color: transparent;\n",
              "      border-right-color: var(--fill-color);\n",
              "    }\n",
              "    80% {\n",
              "      border-color: transparent;\n",
              "      border-right-color: var(--fill-color);\n",
              "      border-bottom-color: var(--fill-color);\n",
              "    }\n",
              "    90% {\n",
              "      border-color: transparent;\n",
              "      border-bottom-color: var(--fill-color);\n",
              "    }\n",
              "  }\n",
              "</style>\n",
              "\n",
              "  <script>\n",
              "    async function quickchart(key) {\n",
              "      const quickchartButtonEl =\n",
              "        document.querySelector('#' + key + ' button');\n",
              "      quickchartButtonEl.disabled = true;  // To prevent multiple clicks.\n",
              "      quickchartButtonEl.classList.add('colab-df-spinner');\n",
              "      try {\n",
              "        const charts = await google.colab.kernel.invokeFunction(\n",
              "            'suggestCharts', [key], {});\n",
              "      } catch (error) {\n",
              "        console.error('Error during call to suggestCharts:', error);\n",
              "      }\n",
              "      quickchartButtonEl.classList.remove('colab-df-spinner');\n",
              "      quickchartButtonEl.classList.add('colab-df-quickchart-complete');\n",
              "    }\n",
              "    (() => {\n",
              "      let quickchartButtonEl =\n",
              "        document.querySelector('#df-4cfbc1ba-3246-49e1-89f3-10e8797a9605 button');\n",
              "      quickchartButtonEl.style.display =\n",
              "        google.colab.kernel.accessAllowed ? 'block' : 'none';\n",
              "    })();\n",
              "  </script>\n",
              "</div>\n",
              "    </div>\n",
              "  </div>\n"
            ]
          },
          "metadata": {},
          "execution_count": 7
        }
      ]
    },
    {
      "cell_type": "code",
      "source": [
        "df.info()"
      ],
      "metadata": {
        "colab": {
          "base_uri": "https://localhost:8080/"
        },
        "id": "Fqb45k_t7BvH",
        "outputId": "0fdd0922-fbe9-4298-f521-670063b58963"
      },
      "execution_count": 8,
      "outputs": [
        {
          "output_type": "stream",
          "name": "stdout",
          "text": [
            "<class 'pandas.core.frame.DataFrame'>\n",
            "RangeIndex: 62 entries, 0 to 61\n",
            "Data columns (total 31 columns):\n",
            " #   Column         Non-Null Count  Dtype  \n",
            "---  ------         --------------  -----  \n",
            " 0   Year           62 non-null     int64  \n",
            " 1   Cocoa          62 non-null     float64\n",
            " 2   Coffee         62 non-null     float64\n",
            " 3   Tea            62 non-null     float64\n",
            " 4   Crude Oil      62 non-null     float64\n",
            " 5   Coal           52 non-null     float64\n",
            " 6   Natural Gas    62 non-null     float64\n",
            " 7   Banana         62 non-null     float64\n",
            " 8   Sugar          62 non-null     float64\n",
            " 9   Orange         62 non-null     float64\n",
            " 10  Barley         61 non-null     float64\n",
            " 11  Maize          62 non-null     float64\n",
            " 12  Sorghum        61 non-null     float64\n",
            " 13  Rice           62 non-null     float64\n",
            " 14  Wheat          62 non-null     float64\n",
            " 15  Beef           62 non-null     float64\n",
            " 16  Chicken        62 non-null     float64\n",
            " 17  Lamb           51 non-null     float64\n",
            " 18  Shrimps        62 non-null     float64\n",
            " 19  Gold           62 non-null     float64\n",
            " 20  Platinum       62 non-null     float64\n",
            " 21  Silver         62 non-null     float64\n",
            " 22  Cotton         62 non-null     float64\n",
            " 23  Rubber         62 non-null     float64\n",
            " 24  Tobacco        62 non-null     float64\n",
            " 25  Coconut Oil    62 non-null     float64\n",
            " 26  Groundnut Oil  62 non-null     float64\n",
            " 27  Palm Oil       62 non-null     float64\n",
            " 28  Soybean        62 non-null     float64\n",
            " 29  Logs           62 non-null     float64\n",
            " 30  Sawnwood       62 non-null     float64\n",
            "dtypes: float64(30), int64(1)\n",
            "memory usage: 15.1 KB\n"
          ]
        }
      ]
    },
    {
      "cell_type": "code",
      "source": [
        "df = df.drop(['Crude Oil', 'Coal', 'Natural Gas', 'Banana','Orange', 'Barley', 'Maize', 'Sorghum', 'Wheat', 'Chicken', 'Lamb', 'Shrimps','Platinum', 'Silver', 'Cotton', 'Rubber', 'Tobacco', 'Groundnut Oil', 'Palm Oil', 'Soybean', 'Logs', 'Sawnwood'], axis=1)"
      ],
      "metadata": {
        "id": "p2b5Ql1pRnI5"
      },
      "execution_count": 9,
      "outputs": []
    },
    {
      "cell_type": "code",
      "source": [
        "df.head()"
      ],
      "metadata": {
        "colab": {
          "base_uri": "https://localhost:8080/",
          "height": 206
        },
        "id": "jWhf5wOwIqO_",
        "outputId": "c88fbbab-118f-4839-f79a-a65841f84fb8"
      },
      "execution_count": 10,
      "outputs": [
        {
          "output_type": "execute_result",
          "data": {
            "text/plain": [
              "   Year  Cocoa  Coffee   Tea  Sugar    Rice  Beef   Gold  Coconut Oil\n",
              "0  1960   0.59    0.92  1.03   0.07  107.35  0.74  35.27       312.33\n",
              "1  1961   0.48    0.90  0.95   0.06  118.95  0.68  35.25       253.42\n",
              "2  1962   0.46    0.83  0.97   0.06  134.93  0.71  35.23       251.22\n",
              "3  1963   0.55    0.81  0.95   0.18  125.66  0.67  35.09       286.33\n",
              "4  1964   0.51    1.01  0.93   0.13  120.15  0.84  35.10       296.48"
            ],
            "text/html": [
              "\n",
              "  <div id=\"df-1555c4cb-31d7-415e-b966-6c8a1bd99699\" class=\"colab-df-container\">\n",
              "    <div>\n",
              "<style scoped>\n",
              "    .dataframe tbody tr th:only-of-type {\n",
              "        vertical-align: middle;\n",
              "    }\n",
              "\n",
              "    .dataframe tbody tr th {\n",
              "        vertical-align: top;\n",
              "    }\n",
              "\n",
              "    .dataframe thead th {\n",
              "        text-align: right;\n",
              "    }\n",
              "</style>\n",
              "<table border=\"1\" class=\"dataframe\">\n",
              "  <thead>\n",
              "    <tr style=\"text-align: right;\">\n",
              "      <th></th>\n",
              "      <th>Year</th>\n",
              "      <th>Cocoa</th>\n",
              "      <th>Coffee</th>\n",
              "      <th>Tea</th>\n",
              "      <th>Sugar</th>\n",
              "      <th>Rice</th>\n",
              "      <th>Beef</th>\n",
              "      <th>Gold</th>\n",
              "      <th>Coconut Oil</th>\n",
              "    </tr>\n",
              "  </thead>\n",
              "  <tbody>\n",
              "    <tr>\n",
              "      <th>0</th>\n",
              "      <td>1960</td>\n",
              "      <td>0.59</td>\n",
              "      <td>0.92</td>\n",
              "      <td>1.03</td>\n",
              "      <td>0.07</td>\n",
              "      <td>107.35</td>\n",
              "      <td>0.74</td>\n",
              "      <td>35.27</td>\n",
              "      <td>312.33</td>\n",
              "    </tr>\n",
              "    <tr>\n",
              "      <th>1</th>\n",
              "      <td>1961</td>\n",
              "      <td>0.48</td>\n",
              "      <td>0.90</td>\n",
              "      <td>0.95</td>\n",
              "      <td>0.06</td>\n",
              "      <td>118.95</td>\n",
              "      <td>0.68</td>\n",
              "      <td>35.25</td>\n",
              "      <td>253.42</td>\n",
              "    </tr>\n",
              "    <tr>\n",
              "      <th>2</th>\n",
              "      <td>1962</td>\n",
              "      <td>0.46</td>\n",
              "      <td>0.83</td>\n",
              "      <td>0.97</td>\n",
              "      <td>0.06</td>\n",
              "      <td>134.93</td>\n",
              "      <td>0.71</td>\n",
              "      <td>35.23</td>\n",
              "      <td>251.22</td>\n",
              "    </tr>\n",
              "    <tr>\n",
              "      <th>3</th>\n",
              "      <td>1963</td>\n",
              "      <td>0.55</td>\n",
              "      <td>0.81</td>\n",
              "      <td>0.95</td>\n",
              "      <td>0.18</td>\n",
              "      <td>125.66</td>\n",
              "      <td>0.67</td>\n",
              "      <td>35.09</td>\n",
              "      <td>286.33</td>\n",
              "    </tr>\n",
              "    <tr>\n",
              "      <th>4</th>\n",
              "      <td>1964</td>\n",
              "      <td>0.51</td>\n",
              "      <td>1.01</td>\n",
              "      <td>0.93</td>\n",
              "      <td>0.13</td>\n",
              "      <td>120.15</td>\n",
              "      <td>0.84</td>\n",
              "      <td>35.10</td>\n",
              "      <td>296.48</td>\n",
              "    </tr>\n",
              "  </tbody>\n",
              "</table>\n",
              "</div>\n",
              "    <div class=\"colab-df-buttons\">\n",
              "\n",
              "  <div class=\"colab-df-container\">\n",
              "    <button class=\"colab-df-convert\" onclick=\"convertToInteractive('df-1555c4cb-31d7-415e-b966-6c8a1bd99699')\"\n",
              "            title=\"Convert this dataframe to an interactive table.\"\n",
              "            style=\"display:none;\">\n",
              "\n",
              "  <svg xmlns=\"http://www.w3.org/2000/svg\" height=\"24px\" viewBox=\"0 -960 960 960\">\n",
              "    <path d=\"M120-120v-720h720v720H120Zm60-500h600v-160H180v160Zm220 220h160v-160H400v160Zm0 220h160v-160H400v160ZM180-400h160v-160H180v160Zm440 0h160v-160H620v160ZM180-180h160v-160H180v160Zm440 0h160v-160H620v160Z\"/>\n",
              "  </svg>\n",
              "    </button>\n",
              "\n",
              "  <style>\n",
              "    .colab-df-container {\n",
              "      display:flex;\n",
              "      gap: 12px;\n",
              "    }\n",
              "\n",
              "    .colab-df-convert {\n",
              "      background-color: #E8F0FE;\n",
              "      border: none;\n",
              "      border-radius: 50%;\n",
              "      cursor: pointer;\n",
              "      display: none;\n",
              "      fill: #1967D2;\n",
              "      height: 32px;\n",
              "      padding: 0 0 0 0;\n",
              "      width: 32px;\n",
              "    }\n",
              "\n",
              "    .colab-df-convert:hover {\n",
              "      background-color: #E2EBFA;\n",
              "      box-shadow: 0px 1px 2px rgba(60, 64, 67, 0.3), 0px 1px 3px 1px rgba(60, 64, 67, 0.15);\n",
              "      fill: #174EA6;\n",
              "    }\n",
              "\n",
              "    .colab-df-buttons div {\n",
              "      margin-bottom: 4px;\n",
              "    }\n",
              "\n",
              "    [theme=dark] .colab-df-convert {\n",
              "      background-color: #3B4455;\n",
              "      fill: #D2E3FC;\n",
              "    }\n",
              "\n",
              "    [theme=dark] .colab-df-convert:hover {\n",
              "      background-color: #434B5C;\n",
              "      box-shadow: 0px 1px 3px 1px rgba(0, 0, 0, 0.15);\n",
              "      filter: drop-shadow(0px 1px 2px rgba(0, 0, 0, 0.3));\n",
              "      fill: #FFFFFF;\n",
              "    }\n",
              "  </style>\n",
              "\n",
              "    <script>\n",
              "      const buttonEl =\n",
              "        document.querySelector('#df-1555c4cb-31d7-415e-b966-6c8a1bd99699 button.colab-df-convert');\n",
              "      buttonEl.style.display =\n",
              "        google.colab.kernel.accessAllowed ? 'block' : 'none';\n",
              "\n",
              "      async function convertToInteractive(key) {\n",
              "        const element = document.querySelector('#df-1555c4cb-31d7-415e-b966-6c8a1bd99699');\n",
              "        const dataTable =\n",
              "          await google.colab.kernel.invokeFunction('convertToInteractive',\n",
              "                                                    [key], {});\n",
              "        if (!dataTable) return;\n",
              "\n",
              "        const docLinkHtml = 'Like what you see? Visit the ' +\n",
              "          '<a target=\"_blank\" href=https://colab.research.google.com/notebooks/data_table.ipynb>data table notebook</a>'\n",
              "          + ' to learn more about interactive tables.';\n",
              "        element.innerHTML = '';\n",
              "        dataTable['output_type'] = 'display_data';\n",
              "        await google.colab.output.renderOutput(dataTable, element);\n",
              "        const docLink = document.createElement('div');\n",
              "        docLink.innerHTML = docLinkHtml;\n",
              "        element.appendChild(docLink);\n",
              "      }\n",
              "    </script>\n",
              "  </div>\n",
              "\n",
              "\n",
              "<div id=\"df-cea24b3b-eac5-4acd-923b-5476352e5d57\">\n",
              "  <button class=\"colab-df-quickchart\" onclick=\"quickchart('df-cea24b3b-eac5-4acd-923b-5476352e5d57')\"\n",
              "            title=\"Suggest charts.\"\n",
              "            style=\"display:none;\">\n",
              "\n",
              "<svg xmlns=\"http://www.w3.org/2000/svg\" height=\"24px\"viewBox=\"0 0 24 24\"\n",
              "     width=\"24px\">\n",
              "    <g>\n",
              "        <path d=\"M19 3H5c-1.1 0-2 .9-2 2v14c0 1.1.9 2 2 2h14c1.1 0 2-.9 2-2V5c0-1.1-.9-2-2-2zM9 17H7v-7h2v7zm4 0h-2V7h2v10zm4 0h-2v-4h2v4z\"/>\n",
              "    </g>\n",
              "</svg>\n",
              "  </button>\n",
              "\n",
              "<style>\n",
              "  .colab-df-quickchart {\n",
              "      --bg-color: #E8F0FE;\n",
              "      --fill-color: #1967D2;\n",
              "      --hover-bg-color: #E2EBFA;\n",
              "      --hover-fill-color: #174EA6;\n",
              "      --disabled-fill-color: #AAA;\n",
              "      --disabled-bg-color: #DDD;\n",
              "  }\n",
              "\n",
              "  [theme=dark] .colab-df-quickchart {\n",
              "      --bg-color: #3B4455;\n",
              "      --fill-color: #D2E3FC;\n",
              "      --hover-bg-color: #434B5C;\n",
              "      --hover-fill-color: #FFFFFF;\n",
              "      --disabled-bg-color: #3B4455;\n",
              "      --disabled-fill-color: #666;\n",
              "  }\n",
              "\n",
              "  .colab-df-quickchart {\n",
              "    background-color: var(--bg-color);\n",
              "    border: none;\n",
              "    border-radius: 50%;\n",
              "    cursor: pointer;\n",
              "    display: none;\n",
              "    fill: var(--fill-color);\n",
              "    height: 32px;\n",
              "    padding: 0;\n",
              "    width: 32px;\n",
              "  }\n",
              "\n",
              "  .colab-df-quickchart:hover {\n",
              "    background-color: var(--hover-bg-color);\n",
              "    box-shadow: 0 1px 2px rgba(60, 64, 67, 0.3), 0 1px 3px 1px rgba(60, 64, 67, 0.15);\n",
              "    fill: var(--button-hover-fill-color);\n",
              "  }\n",
              "\n",
              "  .colab-df-quickchart-complete:disabled,\n",
              "  .colab-df-quickchart-complete:disabled:hover {\n",
              "    background-color: var(--disabled-bg-color);\n",
              "    fill: var(--disabled-fill-color);\n",
              "    box-shadow: none;\n",
              "  }\n",
              "\n",
              "  .colab-df-spinner {\n",
              "    border: 2px solid var(--fill-color);\n",
              "    border-color: transparent;\n",
              "    border-bottom-color: var(--fill-color);\n",
              "    animation:\n",
              "      spin 1s steps(1) infinite;\n",
              "  }\n",
              "\n",
              "  @keyframes spin {\n",
              "    0% {\n",
              "      border-color: transparent;\n",
              "      border-bottom-color: var(--fill-color);\n",
              "      border-left-color: var(--fill-color);\n",
              "    }\n",
              "    20% {\n",
              "      border-color: transparent;\n",
              "      border-left-color: var(--fill-color);\n",
              "      border-top-color: var(--fill-color);\n",
              "    }\n",
              "    30% {\n",
              "      border-color: transparent;\n",
              "      border-left-color: var(--fill-color);\n",
              "      border-top-color: var(--fill-color);\n",
              "      border-right-color: var(--fill-color);\n",
              "    }\n",
              "    40% {\n",
              "      border-color: transparent;\n",
              "      border-right-color: var(--fill-color);\n",
              "      border-top-color: var(--fill-color);\n",
              "    }\n",
              "    60% {\n",
              "      border-color: transparent;\n",
              "      border-right-color: var(--fill-color);\n",
              "    }\n",
              "    80% {\n",
              "      border-color: transparent;\n",
              "      border-right-color: var(--fill-color);\n",
              "      border-bottom-color: var(--fill-color);\n",
              "    }\n",
              "    90% {\n",
              "      border-color: transparent;\n",
              "      border-bottom-color: var(--fill-color);\n",
              "    }\n",
              "  }\n",
              "</style>\n",
              "\n",
              "  <script>\n",
              "    async function quickchart(key) {\n",
              "      const quickchartButtonEl =\n",
              "        document.querySelector('#' + key + ' button');\n",
              "      quickchartButtonEl.disabled = true;  // To prevent multiple clicks.\n",
              "      quickchartButtonEl.classList.add('colab-df-spinner');\n",
              "      try {\n",
              "        const charts = await google.colab.kernel.invokeFunction(\n",
              "            'suggestCharts', [key], {});\n",
              "      } catch (error) {\n",
              "        console.error('Error during call to suggestCharts:', error);\n",
              "      }\n",
              "      quickchartButtonEl.classList.remove('colab-df-spinner');\n",
              "      quickchartButtonEl.classList.add('colab-df-quickchart-complete');\n",
              "    }\n",
              "    (() => {\n",
              "      let quickchartButtonEl =\n",
              "        document.querySelector('#df-cea24b3b-eac5-4acd-923b-5476352e5d57 button');\n",
              "      quickchartButtonEl.style.display =\n",
              "        google.colab.kernel.accessAllowed ? 'block' : 'none';\n",
              "    })();\n",
              "  </script>\n",
              "</div>\n",
              "    </div>\n",
              "  </div>\n"
            ]
          },
          "metadata": {},
          "execution_count": 10
        }
      ]
    },
    {
      "cell_type": "code",
      "source": [
        "df.info()"
      ],
      "metadata": {
        "colab": {
          "base_uri": "https://localhost:8080/"
        },
        "id": "c3TMXWecT_6u",
        "outputId": "08441854-5d07-479e-ec70-bf22094323f1"
      },
      "execution_count": 11,
      "outputs": [
        {
          "output_type": "stream",
          "name": "stdout",
          "text": [
            "<class 'pandas.core.frame.DataFrame'>\n",
            "RangeIndex: 62 entries, 0 to 61\n",
            "Data columns (total 9 columns):\n",
            " #   Column       Non-Null Count  Dtype  \n",
            "---  ------       --------------  -----  \n",
            " 0   Year         62 non-null     int64  \n",
            " 1   Cocoa        62 non-null     float64\n",
            " 2   Coffee       62 non-null     float64\n",
            " 3   Tea          62 non-null     float64\n",
            " 4   Sugar        62 non-null     float64\n",
            " 5   Rice         62 non-null     float64\n",
            " 6   Beef         62 non-null     float64\n",
            " 7   Gold         62 non-null     float64\n",
            " 8   Coconut Oil  62 non-null     float64\n",
            "dtypes: float64(8), int64(1)\n",
            "memory usage: 4.5 KB\n"
          ]
        }
      ]
    },
    {
      "cell_type": "code",
      "source": [
        "sns.heatmap(df.isnull())"
      ],
      "metadata": {
        "colab": {
          "base_uri": "https://localhost:8080/",
          "height": 521
        },
        "id": "AAi7Mb-t7I5J",
        "outputId": "3db8e17f-12db-45f0-9558-daa7d6f9ea38"
      },
      "execution_count": 12,
      "outputs": [
        {
          "output_type": "execute_result",
          "data": {
            "text/plain": [
              "<Axes: >"
            ]
          },
          "metadata": {},
          "execution_count": 12
        },
        {
          "output_type": "display_data",
          "data": {
            "text/plain": [
              "<Figure size 640x480 with 2 Axes>"
            ],
            "image/png": "[encoded data removed]"
          },
          "metadata": {}
        }
      ]
    },
    {
      "cell_type": "code",
      "source": [
        "df.describe()"
      ],
      "metadata": {
        "colab": {
          "base_uri": "https://localhost:8080/",
          "height": 300
        },
        "id": "VuNyyFL87LMa",
        "outputId": "98fadf5b-e7f3-45e0-994a-01684af67303"
      },
      "execution_count": 13,
      "outputs": [
        {
          "output_type": "execute_result",
          "data": {
            "text/plain": [
              "              Year      Cocoa     Coffee        Tea      Sugar        Rice  \\\n",
              "count    62.000000  62.000000  62.000000  62.000000  62.000000   62.000000   \n",
              "mean   1990.500000   1.719677   2.527097   1.752581   0.237097  296.025323   \n",
              "std      18.041619   0.870195   1.243963   0.692082   0.141078  133.045527   \n",
              "min    1960.000000   0.370000   0.810000   0.730000   0.040000  107.350000   \n",
              "25%    1975.250000   1.105000   1.380000   1.152500   0.150000  193.135000   \n",
              "50%    1990.500000   1.605000   2.705000   1.655000   0.210000  274.975000   \n",
              "75%    2005.750000   2.362500   3.317500   2.090000   0.287500  393.627500   \n",
              "max    2021.000000   3.790000   5.980000   3.150000   0.650000  650.190000   \n",
              "\n",
              "            Beef         Gold  Coconut Oil  \n",
              "count  62.000000    62.000000    62.000000  \n",
              "mean    2.413548   510.236613   674.460806  \n",
              "std     1.183344   499.376535   370.276577  \n",
              "min     0.670000    34.950000   234.060000  \n",
              "25%     1.580000   150.602500   397.702500  \n",
              "50%     2.300000   362.845000   584.170000  \n",
              "75%     2.730000   606.980000   877.055000  \n",
              "max     5.390000  1799.630000  1730.080000  "
            ],
            "text/html": [
              "\n",
              "  <div id=\"df-56d89276-495a-4071-a52c-c12d4552c7e3\" class=\"colab-df-container\">\n",
              "    <div>\n",
              "<style scoped>\n",
              "    .dataframe tbody tr th:only-of-type {\n",
              "        vertical-align: middle;\n",
              "    }\n",
              "\n",
              "    .dataframe tbody tr th {\n",
              "        vertical-align: top;\n",
              "    }\n",
              "\n",
              "    .dataframe thead th {\n",
              "        text-align: right;\n",
              "    }\n",
              "</style>\n",
              "<table border=\"1\" class=\"dataframe\">\n",
              "  <thead>\n",
              "    <tr style=\"text-align: right;\">\n",
              "      <th></th>\n",
              "      <th>Year</th>\n",
              "      <th>Cocoa</th>\n",
              "      <th>Coffee</th>\n",
              "      <th>Tea</th>\n",
              "      <th>Sugar</th>\n",
              "      <th>Rice</th>\n",
              "      <th>Beef</th>\n",
              "      <th>Gold</th>\n",
              "      <th>Coconut Oil</th>\n",
              "    </tr>\n",
              "  </thead>\n",
              "  <tbody>\n",
              "    <tr>\n",
              "      <th>count</th>\n",
              "      <td>62.000000</td>\n",
              "      <td>62.000000</td>\n",
              "      <td>62.000000</td>\n",
              "      <td>62.000000</td>\n",
              "      <td>62.000000</td>\n",
              "      <td>62.000000</td>\n",
              "      <td>62.000000</td>\n",
              "      <td>62.000000</td>\n",
              "      <td>62.000000</td>\n",
              "    </tr>\n",
              "    <tr>\n",
              "      <th>mean</th>\n",
              "      <td>1990.500000</td>\n",
              "      <td>1.719677</td>\n",
              "      <td>2.527097</td>\n",
              "      <td>1.752581</td>\n",
              "      <td>0.237097</td>\n",
              "      <td>296.025323</td>\n",
              "      <td>2.413548</td>\n",
              "      <td>510.236613</td>\n",
              "      <td>674.460806</td>\n",
              "    </tr>\n",
              "    <tr>\n",
              "      <th>std</th>\n",
              "      <td>18.041619</td>\n",
              "      <td>0.870195</td>\n",
              "      <td>1.243963</td>\n",
              "      <td>0.692082</td>\n",
              "      <td>0.141078</td>\n",
              "      <td>133.045527</td>\n",
              "      <td>1.183344</td>\n",
              "      <td>499.376535</td>\n",
              "      <td>370.276577</td>\n",
              "    </tr>\n",
              "    <tr>\n",
              "      <th>min</th>\n",
              "      <td>1960.000000</td>\n",
              "      <td>0.370000</td>\n",
              "      <td>0.810000</td>\n",
              "      <td>0.730000</td>\n",
              "      <td>0.040000</td>\n",
              "      <td>107.350000</td>\n",
              "      <td>0.670000</td>\n",
              "      <td>34.950000</td>\n",
              "      <td>234.060000</td>\n",
              "    </tr>\n",
              "    <tr>\n",
              "      <th>25%</th>\n",
              "      <td>1975.250000</td>\n",
              "      <td>1.105000</td>\n",
              "      <td>1.380000</td>\n",
              "      <td>1.152500</td>\n",
              "      <td>0.150000</td>\n",
              "      <td>193.135000</td>\n",
              "      <td>1.580000</td>\n",
              "      <td>150.602500</td>\n",
              "      <td>397.702500</td>\n",
              "    </tr>\n",
              "    <tr>\n",
              "      <th>50%</th>\n",
              "      <td>1990.500000</td>\n",
              "      <td>1.605000</td>\n",
              "      <td>2.705000</td>\n",
              "      <td>1.655000</td>\n",
              "      <td>0.210000</td>\n",
              "      <td>274.975000</td>\n",
              "      <td>2.300000</td>\n",
              "      <td>362.845000</td>\n",
              "      <td>584.170000</td>\n",
              "    </tr>\n",
              "    <tr>\n",
              "      <th>75%</th>\n",
              "      <td>2005.750000</td>\n",
              "      <td>2.362500</td>\n",
              "      <td>3.317500</td>\n",
              "      <td>2.090000</td>\n",
              "      <td>0.287500</td>\n",
              "      <td>393.627500</td>\n",
              "      <td>2.730000</td>\n",
              "      <td>606.980000</td>\n",
              "      <td>877.055000</td>\n",
              "    </tr>\n",
              "    <tr>\n",
              "      <th>max</th>\n",
              "      <td>2021.000000</td>\n",
              "      <td>3.790000</td>\n",
              "      <td>5.980000</td>\n",
              "      <td>3.150000</td>\n",
              "      <td>0.650000</td>\n",
              "      <td>650.190000</td>\n",
              "      <td>5.390000</td>\n",
              "      <td>1799.630000</td>\n",
              "      <td>1730.080000</td>\n",
              "    </tr>\n",
              "  </tbody>\n",
              "</table>\n",
              "</div>\n",
              "    <div class=\"colab-df-buttons\">\n",
              "\n",
              "  <div class=\"colab-df-container\">\n",
              "    <button class=\"colab-df-convert\" onclick=\"convertToInteractive('df-56d89276-495a-4071-a52c-c12d4552c7e3')\"\n",
              "            title=\"Convert this dataframe to an interactive table.\"\n",
              "            style=\"display:none;\">\n",
              "\n",
              "  <svg xmlns=\"http://www.w3.org/2000/svg\" height=\"24px\" viewBox=\"0 -960 960 960\">\n",
              "    <path d=\"M120-120v-720h720v720H120Zm60-500h600v-160H180v160Zm220 220h160v-160H400v160Zm0 220h160v-160H400v160ZM180-400h160v-160H180v160Zm440 0h160v-160H620v160ZM180-180h160v-160H180v160Zm440 0h160v-160H620v160Z\"/>\n",
              "  </svg>\n",
              "    </button>\n",
              "\n",
              "  <style>\n",
              "    .colab-df-container {\n",
              "      display:flex;\n",
              "      gap: 12px;\n",
              "    }\n",
              "\n",
              "    .colab-df-convert {\n",
              "      background-color: #E8F0FE;\n",
              "      border: none;\n",
              "      border-radius: 50%;\n",
              "      cursor: pointer;\n",
              "      display: none;\n",
              "      fill: #1967D2;\n",
              "      height: 32px;\n",
              "      padding: 0 0 0 0;\n",
              "      width: 32px;\n",
              "    }\n",
              "\n",
              "    .colab-df-convert:hover {\n",
              "      background-color: #E2EBFA;\n",
              "      box-shadow: 0px 1px 2px rgba(60, 64, 67, 0.3), 0px 1px 3px 1px rgba(60, 64, 67, 0.15);\n",
              "      fill: #174EA6;\n",
              "    }\n",
              "\n",
              "    .colab-df-buttons div {\n",
              "      margin-bottom: 4px;\n",
              "    }\n",
              "\n",
              "    [theme=dark] .colab-df-convert {\n",
              "      background-color: #3B4455;\n",
              "      fill: #D2E3FC;\n",
              "    }\n",
              "\n",
              "    [theme=dark] .colab-df-convert:hover {\n",
              "      background-color: #434B5C;\n",
              "      box-shadow: 0px 1px 3px 1px rgba(0, 0, 0, 0.15);\n",
              "      filter: drop-shadow(0px 1px 2px rgba(0, 0, 0, 0.3));\n",
              "      fill: #FFFFFF;\n",
              "    }\n",
              "  </style>\n",
              "\n",
              "    <script>\n",
              "      const buttonEl =\n",
              "        document.querySelector('#df-56d89276-495a-4071-a52c-c12d4552c7e3 button.colab-df-convert');\n",
              "      buttonEl.style.display =\n",
              "        google.colab.kernel.accessAllowed ? 'block' : 'none';\n",
              "\n",
              "      async function convertToInteractive(key) {\n",
              "        const element = document.querySelector('#df-56d89276-495a-4071-a52c-c12d4552c7e3');\n",
              "        const dataTable =\n",
              "          await google.colab.kernel.invokeFunction('convertToInteractive',\n",
              "                                                    [key], {});\n",
              "        if (!dataTable) return;\n",
              "\n",
              "        const docLinkHtml = 'Like what you see? Visit the ' +\n",
              "          '<a target=\"_blank\" href=https://colab.research.google.com/notebooks/data_table.ipynb>data table notebook</a>'\n",
              "          + ' to learn more about interactive tables.';\n",
              "        element.innerHTML = '';\n",
              "        dataTable['output_type'] = 'display_data';\n",
              "        await google.colab.output.renderOutput(dataTable, element);\n",
              "        const docLink = document.createElement('div');\n",
              "        docLink.innerHTML = docLinkHtml;\n",
              "        element.appendChild(docLink);\n",
              "      }\n",
              "    </script>\n",
              "  </div>\n",
              "\n",
              "\n",
              "<div id=\"df-643d4d69-bd1e-4254-b019-55b85fd5799a\">\n",
              "  <button class=\"colab-df-quickchart\" onclick=\"quickchart('df-643d4d69-bd1e-4254-b019-55b85fd5799a')\"\n",
              "            title=\"Suggest charts.\"\n",
              "            style=\"display:none;\">\n",
              "\n",
              "<svg xmlns=\"http://www.w3.org/2000/svg\" height=\"24px\"viewBox=\"0 0 24 24\"\n",
              "     width=\"24px\">\n",
              "    <g>\n",
              "        <path d=\"M19 3H5c-1.1 0-2 .9-2 2v14c0 1.1.9 2 2 2h14c1.1 0 2-.9 2-2V5c0-1.1-.9-2-2-2zM9 17H7v-7h2v7zm4 0h-2V7h2v10zm4 0h-2v-4h2v4z\"/>\n",
              "    </g>\n",
              "</svg>\n",
              "  </button>\n",
              "\n",
              "<style>\n",
              "  .colab-df-quickchart {\n",
              "      --bg-color: #E8F0FE;\n",
              "      --fill-color: #1967D2;\n",
              "      --hover-bg-color: #E2EBFA;\n",
              "      --hover-fill-color: #174EA6;\n",
              "      --disabled-fill-color: #AAA;\n",
              "      --disabled-bg-color: #DDD;\n",
              "  }\n",
              "\n",
              "  [theme=dark] .colab-df-quickchart {\n",
              "      --bg-color: #3B4455;\n",
              "      --fill-color: #D2E3FC;\n",
              "      --hover-bg-color: #434B5C;\n",
              "      --hover-fill-color: #FFFFFF;\n",
              "      --disabled-bg-color: #3B4455;\n",
              "      --disabled-fill-color: #666;\n",
              "  }\n",
              "\n",
              "  .colab-df-quickchart {\n",
              "    background-color: var(--bg-color);\n",
              "    border: none;\n",
              "    border-radius: 50%;\n",
              "    cursor: pointer;\n",
              "    display: none;\n",
              "    fill: var(--fill-color);\n",
              "    height: 32px;\n",
              "    padding: 0;\n",
              "    width: 32px;\n",
              "  }\n",
              "\n",
              "  .colab-df-quickchart:hover {\n",
              "    background-color: var(--hover-bg-color);\n",
              "    box-shadow: 0 1px 2px rgba(60, 64, 67, 0.3), 0 1px 3px 1px rgba(60, 64, 67, 0.15);\n",
              "    fill: var(--button-hover-fill-color);\n",
              "  }\n",
              "\n",
              "  .colab-df-quickchart-complete:disabled,\n",
              "  .colab-df-quickchart-complete:disabled:hover {\n",
              "    background-color: var(--disabled-bg-color);\n",
              "    fill: var(--disabled-fill-color);\n",
              "    box-shadow: none;\n",
              "  }\n",
              "\n",
              "  .colab-df-spinner {\n",
              "    border: 2px solid var(--fill-color);\n",
              "    border-color: transparent;\n",
              "    border-bottom-color: var(--fill-color);\n",
              "    animation:\n",
              "      spin 1s steps(1) infinite;\n",
              "  }\n",
              "\n",
              "  @keyframes spin {\n",
              "    0% {\n",
              "      border-color: transparent;\n",
              "      border-bottom-color: var(--fill-color);\n",
              "      border-left-color: var(--fill-color);\n",
              "    }\n",
              "    20% {\n",
              "      border-color: transparent;\n",
              "      border-left-color: var(--fill-color);\n",
              "      border-top-color: var(--fill-color);\n",
              "    }\n",
              "    30% {\n",
              "      border-color: transparent;\n",
              "      border-left-color: var(--fill-color);\n",
              "      border-top-color: var(--fill-color);\n",
              "      border-right-color: var(--fill-color);\n",
              "    }\n",
              "    40% {\n",
              "      border-color: transparent;\n",
              "      border-right-color: var(--fill-color);\n",
              "      border-top-color: var(--fill-color);\n",
              "    }\n",
              "    60% {\n",
              "      border-color: transparent;\n",
              "      border-right-color: var(--fill-color);\n",
              "    }\n",
              "    80% {\n",
              "      border-color: transparent;\n",
              "      border-right-color: var(--fill-color);\n",
              "      border-bottom-color: var(--fill-color);\n",
              "    }\n",
              "    90% {\n",
              "      border-color: transparent;\n",
              "      border-bottom-color: var(--fill-color);\n",
              "    }\n",
              "  }\n",
              "</style>\n",
              "\n",
              "  <script>\n",
              "    async function quickchart(key) {\n",
              "      const quickchartButtonEl =\n",
              "        document.querySelector('#' + key + ' button');\n",
              "      quickchartButtonEl.disabled = true;  // To prevent multiple clicks.\n",
              "      quickchartButtonEl.classList.add('colab-df-spinner');\n",
              "      try {\n",
              "        const charts = await google.colab.kernel.invokeFunction(\n",
              "            'suggestCharts', [key], {});\n",
              "      } catch (error) {\n",
              "        console.error('Error during call to suggestCharts:', error);\n",
              "      }\n",
              "      quickchartButtonEl.classList.remove('colab-df-spinner');\n",
              "      quickchartButtonEl.classList.add('colab-df-quickchart-complete');\n",
              "    }\n",
              "    (() => {\n",
              "      let quickchartButtonEl =\n",
              "        document.querySelector('#df-643d4d69-bd1e-4254-b019-55b85fd5799a button');\n",
              "      quickchartButtonEl.style.display =\n",
              "        google.colab.kernel.accessAllowed ? 'block' : 'none';\n",
              "    })();\n",
              "  </script>\n",
              "</div>\n",
              "    </div>\n",
              "  </div>\n"
            ]
          },
          "metadata": {},
          "execution_count": 13
        }
      ]
    },
    {
      "cell_type": "markdown",
      "source": [
        "**Visualisasi Data**"
      ],
      "metadata": {
        "id": "E-rp79xM7Odx"
      }
    },
    {
      "cell_type": "code",
      "source": [
        "plt.figure(figsize=(10,8))\n",
        "sns.heatmap(df.corr(),annot=True)"
      ],
      "metadata": {
        "colab": {
          "base_uri": "https://localhost:8080/",
          "height": 701
        },
        "id": "xxXTAB4F7TMo",
        "outputId": "cdb6d2b8-21d9-4748-ba2a-a65b9f75b578"
      },
      "execution_count": 14,
      "outputs": [
        {
          "output_type": "execute_result",
          "data": {
            "text/plain": [
              "<Axes: >"
            ]
          },
          "metadata": {},
          "execution_count": 14
        },
        {
          "output_type": "display_data",
          "data": {
            "text/plain": [
              "<Figure size 1000x800 with 2 Axes>"
            ],
            "image/png": "[encoded data removed]"
          },
          "metadata": {}
        }
      ]
    },
    {
      "cell_type": "markdown",
      "source": [
        "**Harga Kopi berdasarkan Tahun**"
      ],
      "metadata": {
        "id": "G-Yk_M-r7sHp"
      }
    },
    {
      "cell_type": "code",
      "source": [
        "models = df.groupby('Coffee').count()[['Year']].sort_values(by='Year',ascending=True).reset_index()\n",
        "models = models.rename(columns={'Year':'NoOfProduct'})"
      ],
      "metadata": {
        "id": "X72uOysC7rVg"
      },
      "execution_count": 15,
      "outputs": []
    },
    {
      "cell_type": "code",
      "source": [
        "fig = plt.figure(figsize=(15,5))\n",
        "sns.barplot(x=models['Coffee'], y=models['NoOfProduct'], color='royalblue')\n",
        "plt.xticks(rotation=60)"
      ],
      "metadata": {
        "colab": {
          "base_uri": "https://localhost:8080/",
          "height": 1000
        },
        "id": "ypFnPI1t8BN1",
        "outputId": "99868f87-640e-47de-d0c2-eccb572de63b"
      },
      "execution_count": 16,
      "outputs": [
        {
          "output_type": "execute_result",
          "data": {
            "text/plain": [
              "(array([ 0,  1,  2,  3,  4,  5,  6,  7,  8,  9, 10, 11, 12, 13, 14, 15, 16,\n",
              "        17, 18, 19, 20, 21, 22, 23, 24, 25, 26, 27, 28, 29, 30, 31, 32, 33,\n",
              "        34, 35, 36, 37, 38, 39, 40, 41, 42, 43, 44, 45, 46, 47, 48, 49, 50,\n",
              "        51, 52, 53, 54, 55, 56, 57, 58]),\n",
              " [Text(0, 0, '0.81'),\n",
              "  Text(1, 0, '0.83'),\n",
              "  Text(2, 0, '0.86'),\n",
              "  Text(3, 0, '0.87'),\n",
              "  Text(4, 0, '0.88'),\n",
              "  Text(5, 0, '0.9'),\n",
              "  Text(6, 0, '0.92'),\n",
              "  Text(7, 0, '0.93'),\n",
              "  Text(8, 0, '0.99'),\n",
              "  Text(9, 0, '1.0'),\n",
              "  Text(10, 0, '1.01'),\n",
              "  Text(11, 0, '1.11'),\n",
              "  Text(12, 0, '1.15'),\n",
              "  Text(13, 0, '1.36'),\n",
              "  Text(14, 0, '1.37'),\n",
              "  Text(15, 0, '1.41'),\n",
              "  Text(16, 0, '1.42'),\n",
              "  Text(17, 0, '1.44'),\n",
              "  Text(18, 0, '1.45'),\n",
              "  Text(19, 0, '1.56'),\n",
              "  Text(20, 0, '1.77'),\n",
              "  Text(21, 0, '1.87'),\n",
              "  Text(22, 0, '1.92'),\n",
              "  Text(23, 0, '1.97'),\n",
              "  Text(24, 0, '2.29'),\n",
              "  Text(25, 0, '2.39'),\n",
              "  Text(26, 0, '2.5'),\n",
              "  Text(27, 0, '2.52'),\n",
              "  Text(28, 0, '2.53'),\n",
              "  Text(29, 0, '2.69'),\n",
              "  Text(30, 0, '2.72'),\n",
              "  Text(31, 0, '2.87'),\n",
              "  Text(32, 0, '2.88'),\n",
              "  Text(33, 0, '2.91'),\n",
              "  Text(34, 0, '2.93'),\n",
              "  Text(35, 0, '2.98'),\n",
              "  Text(36, 0, '3.03'),\n",
              "  Text(37, 0, '3.08'),\n",
              "  Text(38, 0, '3.09'),\n",
              "  Text(39, 0, '3.15'),\n",
              "  Text(40, 0, '3.17'),\n",
              "  Text(41, 0, '3.19'),\n",
              "  Text(42, 0, '3.23'),\n",
              "  Text(43, 0, '3.31'),\n",
              "  Text(44, 0, '3.32'),\n",
              "  Text(45, 0, '3.33'),\n",
              "  Text(46, 0, '3.47'),\n",
              "  Text(47, 0, '3.53'),\n",
              "  Text(48, 0, '3.59'),\n",
              "  Text(49, 0, '3.61'),\n",
              "  Text(50, 0, '3.83'),\n",
              "  Text(51, 0, '4.11'),\n",
              "  Text(52, 0, '4.17'),\n",
              "  Text(53, 0, '4.29'),\n",
              "  Text(54, 0, '4.32'),\n",
              "  Text(55, 0, '4.42'),\n",
              "  Text(56, 0, '4.51'),\n",
              "  Text(57, 0, '5.17'),\n",
              "  Text(58, 0, '5.98')])"
            ]
          },
          "metadata": {},
          "execution_count": 16
        },
        {
          "output_type": "display_data",
          "data": {
            "text/plain": [
              "<Figure size 1500x500 with 1 Axes>"
            ],
            "image/png": "[encoded data removed]"
          },
          "metadata": {}
        }
      ]
    },
    {
      "cell_type": "markdown",
      "source": [
        "**Informasi Mengenai Harga Teh**"
      ],
      "metadata": {
        "id": "tM7fr4bT-xsw"
      }
    },
    {
      "cell_type": "code",
      "source": [
        "Tea = df.groupby('Tea').count()[['Year']].sort_values(by='Year',ascending=True).reset_index()\n",
        "Tea = Tea.rename(columns={'Year':'count'})"
      ],
      "metadata": {
        "id": "qMEMr6Wm-zzH"
      },
      "execution_count": 17,
      "outputs": []
    },
    {
      "cell_type": "code",
      "source": [
        "plt.figure(figsize=(15,5))\n",
        "sns.barplot(x=Tea['Tea'], y=Tea['count'], color='royalblue')"
      ],
      "metadata": {
        "colab": {
          "base_uri": "https://localhost:8080/",
          "height": 484
        },
        "id": "0yvYLYc7-9qP",
        "outputId": "d6a2e1a8-7b82-437a-f7cb-ed40352ccc81"
      },
      "execution_count": 18,
      "outputs": [
        {
          "output_type": "execute_result",
          "data": {
            "text/plain": [
              "<Axes: xlabel='Tea', ylabel='count'>"
            ]
          },
          "metadata": {},
          "execution_count": 18
        },
        {
          "output_type": "display_data",
          "data": {
            "text/plain": [
              "<Figure size 1500x500 with 1 Axes>"
            ],
            "image/png": "[encoded data removed]"
          },
          "metadata": {}
        }
      ]
    },
    {
      "cell_type": "markdown",
      "source": [
        "**Distribusi Harga Kopi**"
      ],
      "metadata": {
        "id": "wPMeSjUX_Gk-"
      }
    },
    {
      "cell_type": "code",
      "source": [
        "plt.figure(figsize=(15,5))\n",
        "sns.distplot(df['Coffee'])"
      ],
      "metadata": {
        "colab": {
          "base_uri": "https://localhost:8080/",
          "height": 691
        },
        "id": "iPvWvml9_QDL",
        "outputId": "6f0ec77c-ae51-4ccd-abfa-fdab40f276df"
      },
      "execution_count": 19,
      "outputs": [
        {
          "output_type": "stream",
          "name": "stderr",
          "text": [
            "<ipython-input-19-2e946717fd80>:2: UserWarning: \n",
            "\n",
            "`distplot` is a deprecated function and will be removed in seaborn v0.14.0.\n",
            "\n",
            "Please adapt your code to use either `displot` (a figure-level function with\n",
            "similar flexibility) or `histplot` (an axes-level function for histograms).\n",
            "\n",
            "For a guide to updating your code to use the new functions, please see\n",
            "https://gist.github.com/mwaskom/de44147ed2974457ad6372750bbe5751\n",
            "\n",
            "  sns.distplot(df['Coffee'])\n"
          ]
        },
        {
          "output_type": "execute_result",
          "data": {
            "text/plain": [
              "<Axes: xlabel='Coffee', ylabel='Density'>"
            ]
          },
          "metadata": {},
          "execution_count": 19
        },
        {
          "output_type": "display_data",
          "data": {
            "text/plain": [
              "<Figure size 1500x500 with 1 Axes>"
            ],
            "image/png": "[encoded data removed]"
          },
          "metadata": {}
        }
      ]
    },
    {
      "cell_type": "markdown",
      "source": [
        "**Distribusi Harga Teh**"
      ],
      "metadata": {
        "id": "kzQeKbPn_WMO"
      }
    },
    {
      "cell_type": "code",
      "source": [
        "plt.figure(figsize=(15,5))\n",
        "sns.distplot(df['Tea'])"
      ],
      "metadata": {
        "colab": {
          "base_uri": "https://localhost:8080/",
          "height": 691
        },
        "id": "lZHR9NAL_VSP",
        "outputId": "9771442a-a35c-4a47-d447-670c5517414e"
      },
      "execution_count": 20,
      "outputs": [
        {
          "output_type": "stream",
          "name": "stderr",
          "text": [
            "<ipython-input-20-6ad7d0a63fec>:2: UserWarning: \n",
            "\n",
            "`distplot` is a deprecated function and will be removed in seaborn v0.14.0.\n",
            "\n",
            "Please adapt your code to use either `displot` (a figure-level function with\n",
            "similar flexibility) or `histplot` (an axes-level function for histograms).\n",
            "\n",
            "For a guide to updating your code to use the new functions, please see\n",
            "https://gist.github.com/mwaskom/de44147ed2974457ad6372750bbe5751\n",
            "\n",
            "  sns.distplot(df['Tea'])\n"
          ]
        },
        {
          "output_type": "execute_result",
          "data": {
            "text/plain": [
              "<Axes: xlabel='Tea', ylabel='Density'>"
            ]
          },
          "metadata": {},
          "execution_count": 20
        },
        {
          "output_type": "display_data",
          "data": {
            "text/plain": [
              "<Figure size 1500x500 with 1 Axes>"
            ],
            "image/png": "[encoded data removed]"
          },
          "metadata": {}
        }
      ]
    },
    {
      "cell_type": "markdown",
      "source": [
        "**Seleksi Fitur**"
      ],
      "metadata": {
        "id": "pDn0JBWz_5L_"
      }
    },
    {
      "cell_type": "code",
      "source": [
        "features = ['Cocoa', 'Coffee', 'Tea', 'Rice', 'Beef', 'Sugar', 'Coconut Oil','Gold']\n",
        "x = df[features]\n",
        "y= df['Year']\n",
        "print(\"Shape of x:\", x.shape)\n",
        "print(\"Shape of y:\", y.shape)"
      ],
      "metadata": {
        "colab": {
          "base_uri": "https://localhost:8080/"
        },
        "id": "Q1r4V3P1_7WZ",
        "outputId": "c19066d1-e8bc-41af-f94f-6512ed0da253"
      },
      "execution_count": 21,
      "outputs": [
        {
          "output_type": "stream",
          "name": "stdout",
          "text": [
            "Shape of x: (62, 8)\n",
            "Shape of y: (62,)\n"
          ]
        }
      ]
    },
    {
      "cell_type": "markdown",
      "source": [
        "**Split data Training dan data testing**\n"
      ],
      "metadata": {
        "id": "JG4tC730Ay9_"
      }
    },
    {
      "cell_type": "code",
      "source": [
        "x_train, x_test, y_train, y_test = train_test_split(x,y, random_state=70)\n",
        "y_test.shape"
      ],
      "metadata": {
        "colab": {
          "base_uri": "https://localhost:8080/"
        },
        "id": "FJ1rZ7PlA1BU",
        "outputId": "5c6152b2-f71e-4ab5-de2b-dd660ec6d1fa"
      },
      "execution_count": 22,
      "outputs": [
        {
          "output_type": "execute_result",
          "data": {
            "text/plain": [
              "(16,)"
            ]
          },
          "metadata": {},
          "execution_count": 22
        }
      ]
    },
    {
      "cell_type": "markdown",
      "source": [
        "**Membuat Model Regresi Linier**"
      ],
      "metadata": {
        "id": "QOITKS8tA3jf"
      }
    },
    {
      "cell_type": "code",
      "source": [
        "lr = LinearRegression()\n",
        "lr.fit(x_train, y_train)\n",
        "pred = lr.predict(x_test)"
      ],
      "metadata": {
        "id": "doBBm5ZzA5Y1"
      },
      "execution_count": 23,
      "outputs": []
    },
    {
      "cell_type": "markdown",
      "source": [
        "**Akurasi Estimasi**"
      ],
      "metadata": {
        "id": "G1wNFVELfNck"
      }
    },
    {
      "cell_type": "code",
      "source": [
        "score = lr.score(x_test, y_test)\n",
        "print('akurasi model linear =', score)"
      ],
      "metadata": {
        "colab": {
          "base_uri": "https://localhost:8080/"
        },
        "id": "ELI0adlbA75a",
        "outputId": "6ac095d1-ee20-46c7-9a6b-e433e6bb163b"
      },
      "execution_count": 24,
      "outputs": [
        {
          "output_type": "stream",
          "name": "stdout",
          "text": [
            "akurasi model linear = 0.8508395794807775\n"
          ]
        }
      ]
    },
    {
      "cell_type": "markdown",
      "source": [
        "**Membuat Inputan Model Regresi Linear**"
      ],
      "metadata": {
        "id": "X0ANOZHCCwlM"
      }
    },
    {
      "cell_type": "code",
      "source": [
        "#Cocoa = 1.27, Coffee = 1.97, Tea = 2,06, Rice = 107.35, Beef = 0.74, Sugar = 0.07, Coconut Oil = 312.33, Gold = 35.27\n",
        "input_data = np.array([[1.27, 1.97, 2.06, 107.35, 0.74, 0.07, 312.33, 35.27]])\n",
        "prediction = lr.predict(input_data)\n",
        "print('Estimasi Tahun:', int(prediction[0]))\n"
      ],
      "metadata": {
        "colab": {
          "base_uri": "https://localhost:8080/"
        },
        "id": "NkXuCjdlklaX",
        "outputId": "9255dfd0-3424-43ff-940f-b4c9abe25a98"
      },
      "execution_count": 25,
      "outputs": [
        {
          "output_type": "stream",
          "name": "stdout",
          "text": [
            "Estimasi Tahun: 1982\n"
          ]
        },
        {
          "output_type": "stream",
          "name": "stderr",
          "text": [
            "/usr/local/lib/python3.10/dist-packages/sklearn/base.py:439: UserWarning: X does not have valid feature names, but LinearRegression was fitted with feature names\n",
            "  warnings.warn(\n"
          ]
        }
      ]
    },
    {
      "cell_type": "markdown",
      "source": [
        "**Metrik evaluasi yang digunakan adalah  R-squared (R²)**"
      ],
      "metadata": {
        "id": "Yof9xObrjjJr"
      }
    },
    {
      "cell_type": "code",
      "source": [
        "from sklearn.metrics import r2_score\n",
        "from sklearn.linear_model import LinearRegression\n",
        "\n",
        "# Data fitur (harga komoditas) dan tahun\n",
        "features = ['Cocoa', 'Coffee', 'Tea', 'Rice', 'Beef', 'Sugar', 'Coconut Oil','Gold']\n",
        "X = df[features]\n",
        "y = df['Year']\n",
        "\n",
        "# Membuat model regresi linear\n",
        "model = LinearRegression()\n",
        "model.fit(X, y)\n",
        "\n",
        "# Melakukan prediksi tahun berdasarkan harga komoditas\n",
        "predicted_years = model.predict(X)\n",
        "\n",
        "# Menghitung R-squared (R²)\n",
        "r_squared = r2_score(y, predicted_years)\n",
        "\n",
        "# Menampilkan hasil\n",
        "print(\"R-squared (R²):\", r_squared)"
      ],
      "metadata": {
        "colab": {
          "base_uri": "https://localhost:8080/"
        },
        "id": "kLxzKP_h2dgP",
        "outputId": "12409665-69c3-498e-c6f5-de37c1f4443e"
      },
      "execution_count": 28,
      "outputs": [
        {
          "output_type": "stream",
          "name": "stdout",
          "text": [
            "R-squared (R²): 0.8375032561246034\n"
          ]
        }
      ]
    },
    {
      "cell_type": "markdown",
      "source": [
        "**Save Model**"
      ],
      "metadata": {
        "id": "rmhmGTEAQnGy"
      }
    },
    {
      "cell_type": "code",
      "source": [
        "import pickle\n",
        "\n",
        "filename ='commodity_prices.sav'\n",
        "pickle.dump(lr, open(filename, 'wb'))"
      ],
      "metadata": {
        "id": "4WxAOyf1QmSk"
      },
      "execution_count": 27,
      "outputs": []
    }
  ]
}